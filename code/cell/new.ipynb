{
 "cells": [
  {
   "cell_type": "code",
   "execution_count": 79,
   "metadata": {},
   "outputs": [],
   "source": [
    "elements_gold = ['Gold', 'Gold']\n",
    "\n",
    "fractional_coordinates_gold = [[ 0.5,  0.5,  0.5],\n",
    "                          [ 0. ,  0. ,  1. ]]"
   ]
  },
  {
   "cell_type": "code",
   "execution_count": 80,
   "metadata": {},
   "outputs": [],
   "source": [
    "elements_mos2 = ['Molybdenum', 'Sulfur', 'Sulfur', 'Molybdenum', 'Sulfur', 'Sulfur']\n",
    "\n",
    "fractional_coordinates_mos2 = [[-0.            ,  0.666666666667,  0.25          ],\n",
    "                          [-0.            ,  0.333333333333,  0.121         ],\n",
    "                          [-0.            ,  0.333333333333,  0.379         ],\n",
    "                          [ 0.5           ,  0.166666666667,  0.25          ],\n",
    "                          [ 0.5           ,  0.833333333333,  0.121         ],\n",
    "                          [ 0.5           ,  0.833333333333,  0.379         ]]"
   ]
  },
  {
   "cell_type": "code",
   "execution_count": 81,
   "metadata": {},
   "outputs": [],
   "source": [
    "# def add_gold_atoms(elements_gold, fractional_coordinates_gold):\n",
    "#     num_new_atoms = int(input(\"Enter the number of new gold atoms to add: \"))\n",
    "#     b_x = float(input(\"Enter the value of the z-coordinate increment for x (b_x): \"))\n",
    "#     b_y = float(input(\"Enter the value of the z-coordinate increment for y (b_y): \"))\n",
    "\n",
    "#     z_increment = 1 / (num_new_atoms + 1) \n",
    "\n",
    "#     # Starting z-coordinates for the new atoms\n",
    "#     current_z_x = fractional_coordinates_gold[-2][2] + b_x\n",
    "#     current_z_y = fractional_coordinates_gold[-1][2] + b_y\n",
    "\n",
    "#     for i in range(num_new_atoms):\n",
    "#         # Alternate x, y coordinates between the two initial coordinates\n",
    "#         x = fractional_coordinates_gold[i % 2][0]\n",
    "#         y = fractional_coordinates_gold[i % 2][1]\n",
    "\n",
    "#         new_z = (i + 1) * z_increment\n",
    "\n",
    "#         # Add new element and coordinates with different z increments for x and y\n",
    "#         elements_gold.append('Gold')\n",
    "#         fractional_coordinates_gold.append([x, y, current_z_x if i % 2 == 0 else current_z_y])\n",
    "\n",
    "#         # Increment the z-coordinate for the next atom differently for x and y\n",
    "#         if i % 2 == 0:\n",
    "#             current_z_x += b_x\n",
    "#         else:\n",
    "#             current_z_y += b_y\n",
    "\n",
    "#     # Print updated lists\n",
    "#     print(\"Updated elements_gold:\", elements_gold)\n",
    "#     print(\"Updated fractional_coordinates_gold:\", fractional_coordinates_gold)\n",
    "\n",
    "# # Call the function to add new gold atoms\n",
    "# add_gold_atoms(elements_gold, fractional_coordinates_gold)\n"
   ]
  },
  {
   "cell_type": "code",
   "execution_count": 83,
   "metadata": {},
   "outputs": [
    {
     "name": "stdout",
     "output_type": "stream",
     "text": [
      "Updated elements_gold: ['Gold', 'Gold', 'Gold', 'Gold', 'Gold', 'Gold', 'Gold', 'Gold', 'Gold', 'Gold', 'Gold', 'Gold', 'Gold', 'Gold']\n",
      "Updated fractional_coordinates_gold: [[0.5, 0.5, 0.5], [0.0, 0.0, 1.0], [0.5, 0.5, 0.07692307692307693], [0.0, 0.0, 0.15384615384615385], [0.5, 0.5, 0.23076923076923078], [0.0, 0.0, 0.3076923076923077], [0.5, 0.5, 0.38461538461538464], [0.0, 0.0, 0.46153846153846156], [0.5, 0.5, 0.5384615384615385], [0.0, 0.0, 0.6153846153846154], [0.5, 0.5, 0.6923076923076923], [0.0, 0.0, 0.7692307692307693], [0.5, 0.5, 0.8461538461538463], [0.0, 0.0, 0.9230769230769231]]\n"
     ]
    }
   ],
   "source": [
    "##OLD\n",
    "def add_gold_atoms(elements_gold, fractional_coordinates_gold):\n",
    "    # Get the number of new gold atoms from the user\n",
    "    num_new_atoms = int(input(\"Enter the number of new gold atoms to add: \"))\n",
    "\n",
    "    # Check if the number of atoms is positive\n",
    "    if num_new_atoms <= 0:\n",
    "        print(\"Number of atoms should be a positive integer.\")\n",
    "        return\n",
    "\n",
    "    # Calculate the increment for z-coordinate\n",
    "    z_increment = 1 / (num_new_atoms + 1)  #  Ensuring the maximum z value does not exceed 1\n",
    "\n",
    "    for i in range(num_new_atoms):\n",
    "        # Alternate x, y coordinates between the two initial coordinates\n",
    "        x = fractional_coordinates_gold[i % 2][0]\n",
    "        y = fractional_coordinates_gold[i % 2][1]\n",
    "\n",
    "        # Calculate the new z-coordinate\n",
    "        new_z = (i + 1) * z_increment\n",
    "\n",
    "        # Add new element and coordinates\n",
    "        elements_gold.append('Gold')\n",
    "        fractional_coordinates_gold.append([x, y, new_z])\n",
    "\n",
    "    # Print updated lists\n",
    "    print(\"Updated elements_gold:\", elements_gold)\n",
    "    print(\"Updated fractional_coordinates_gold:\", fractional_coordinates_gold)\n",
    "\n",
    "# Initial data\n",
    "elements_gold = ['Gold', 'Gold']\n",
    "fractional_coordinates_gold = [[0.5, 0.5, 0.5], [0.0, 0.0, 1.0]]\n",
    "\n",
    "# Call the function to add new gold atoms\n",
    "add_gold_atoms(elements_gold, fractional_coordinates_gold)"
   ]
  },
  {
   "cell_type": "code",
   "execution_count": 84,
   "metadata": {},
   "outputs": [],
   "source": [
    "elements_gold = elements_gold[2:]\n",
    "fractional_coordinates_gold = fractional_coordinates_gold[2:]"
   ]
  },
  {
   "cell_type": "code",
   "execution_count": 85,
   "metadata": {},
   "outputs": [
    {
     "name": "stdout",
     "output_type": "stream",
     "text": [
      "['Gold', 'Gold', 'Gold', 'Gold', 'Gold', 'Gold', 'Gold', 'Gold', 'Gold', 'Gold', 'Gold', 'Gold']\n",
      "[[0.5, 0.5, 0.07692307692307693], [0.0, 0.0, 0.15384615384615385], [0.5, 0.5, 0.23076923076923078], [0.0, 0.0, 0.3076923076923077], [0.5, 0.5, 0.38461538461538464], [0.0, 0.0, 0.46153846153846156], [0.5, 0.5, 0.5384615384615385], [0.0, 0.0, 0.6153846153846154], [0.5, 0.5, 0.6923076923076923], [0.0, 0.0, 0.7692307692307693], [0.5, 0.5, 0.8461538461538463], [0.0, 0.0, 0.9230769230769231]]\n"
     ]
    }
   ],
   "source": [
    "print(elements_gold)\n",
    "print(fractional_coordinates_gold)"
   ]
  },
  {
   "cell_type": "code",
   "execution_count": 86,
   "metadata": {},
   "outputs": [],
   "source": [
    "# def add_gold_atoms(elements_gold, fractional_coordinates_gold):\n",
    "#     num_new_atoms = int(input(\"Enter the number of new gold atoms to add: \"))\n",
    "#     b = float(input(\"Enter the value of the z-coordinate increment (b): \"))\n",
    "\n",
    "#     # Starting z-coordinate for the new atoms\n",
    "#     current_z = fractional_coordinates_gold[-2][2] + b\n",
    "\n",
    "#     for i in range(num_new_atoms):\n",
    "#         # Alternate x, y coordinates between the two initial coordinates\n",
    "#         x = fractional_coordinates_gold[i % 2][0]\n",
    "#         y = fractional_coordinates_gold[i % 2][1]\n",
    "\n",
    "#         # Add new element and coordinates\n",
    "#         elements_gold.append('Gold')\n",
    "#         fractional_coordinates_gold.append([x, y, current_z])\n",
    "\n",
    "#         # Increment the z-coordinate for the next atom\n",
    "#         current_z += b\n",
    "\n",
    "#     # Print updated lists\n",
    "#     print(\"Updated elements_gold:\", elements_gold)\n",
    "#     print(\"Updated fractional_coordinates_gold:\", fractional_coordinates_gold)\n",
    "\n",
    "# # Call the function to add new gold atoms\n",
    "# add_gold_atoms(elements_gold, fractional_coordinates_gold)"
   ]
  },
  {
   "cell_type": "code",
   "execution_count": 87,
   "metadata": {},
   "outputs": [],
   "source": [
    "# def shift_last_n_elements(fractional_coordinates_gold, n, a):\n",
    "#     for i in range(-n, 0):\n",
    "#         fractional_coordinates_gold[i][2] += a\n",
    "\n",
    "#     print(\"Shifted fractional coordinates:\", fractional_coordinates_gold)\n",
    "\n",
    "# n = int(input(\"Enter the number of elements to shift: \"))\n",
    "# a = float(input(\"Enter the value to add to the z coordinates: \"))\n",
    "# shift_last_n_elements(fractional_coordinates_gold, n, a)"
   ]
  },
  {
   "cell_type": "code",
   "execution_count": 88,
   "metadata": {},
   "outputs": [
    {
     "name": "stdout",
     "output_type": "stream",
     "text": [
      "12\n",
      "12\n"
     ]
    }
   ],
   "source": [
    "print(len(elements_gold))\n",
    "print(len(fractional_coordinates_gold))"
   ]
  },
  {
   "cell_type": "code",
   "execution_count": 89,
   "metadata": {},
   "outputs": [],
   "source": [
    "num_new=6\n",
    "a=f'''vector_a = [2.8837582303740374, 0.0, 0.0]*Angstrom\n",
    "vector_b = [0.0, 2.8837582303740374, 0.0]*Angstrom\n",
    "vector_c = [0.0, 0.0, {num_new*(4.07825)}]*Angstrom\n",
    "lattice = UnitCell(vector_a, vector_b, vector_c)\\n\\n'''\n",
    "b=f'''vector_a = [3.1604, 0.0, 0.0]*Angstrom\n",
    "vector_b = [0.0, 5.47397337224068, 0.0]*Angstrom\n",
    "vector_c = [0.0, 0.0, 12.295]*Angstrom\n",
    "lattice = UnitCell(vector_a, vector_b, vector_c)\\n\\n'''"
   ]
  },
  {
   "cell_type": "code",
   "execution_count": 90,
   "metadata": {},
   "outputs": [],
   "source": [
    "#PRINT\n",
    "with open(f'new.py', 'a') as file:\n",
    "    file.write('''vector_a = [14.418791151870188, 0.0, 0.0]*Angstrom\n",
    "vector_b = [0.0, -8.651274691122111, 0.0]*Angstrom\n",
    "vector_c = [0.0, 0.0, 36.7645]*Angstrom\n",
    "lattice = UnitCell(vector_a, vector_b, vector_c)\\n\\n''')\n",
    "\n",
    "    # Write elements line by line\n",
    "    file.write('elements_gold = [\\n')\n",
    "    for element in elements_gold:\n",
    "        file.write(f'\"{element}\",\\n')\n",
    "    file.write(']\\n\\n')\n",
    "\n",
    "    # Write fractional coordinates line by line\n",
    "    file.write('fractional_coordinates_gold = [\\n')\n",
    "    for coord in fractional_coordinates_gold:\n",
    "        file.write(f'    [{coord[0]}, {coord[1]}, {coord[2]}],\\n')\n",
    "    file.write(']\\n\\n')\n",
    "\n",
    "    file.write(\"bulk_configuration_gold = BulkConfiguration(bravais_lattice=lattice,elements=elements_gold,fractional_coordinates=fractional_coordinates_gold)\\n\\n\")\n"
   ]
  },
  {
   "cell_type": "code",
   "execution_count": 91,
   "metadata": {},
   "outputs": [],
   "source": [
    "with open(f'new.py', 'a') as file:\n",
    "    file.write('''vector_a = [3.1604, 0.0, 0.0]*Angstrom\n",
    "vector_b = [0.0, 5.47397337224068, 0.0]*Angstrom\n",
    "vector_c = [0.0, 0.0, 12.295]*Angstrom\n",
    "lattice = UnitCell(vector_a, vector_b, vector_c)\\n\\n''')\n",
    "\n",
    "    # Write elements line by line\n",
    "    file.write('elements_mos2 = [\\n')\n",
    "    for element in elements_mos2:\n",
    "        file.write(f'\"{element}\",\\n')\n",
    "    file.write(']\\n\\n')\n",
    "\n",
    "    # Write fractional coordinates line by line\n",
    "    file.write('fractional_coordinates_mos2 = [\\n')\n",
    "    for coord in fractional_coordinates_mos2:\n",
    "        file.write(f'    [{coord[0]}, {coord[1]}, {coord[2]}],\\n')\n",
    "    file.write(']\\n\\n')\n",
    "\n",
    "    file.write(\"bulk_configuration_mo = BulkConfiguration(bravais_lattice=lattice,elements=elements_mos2,fractional_coordinates=fractional_coordinates_mos2)\\n\\n\")"
   ]
  },
  {
   "cell_type": "code",
   "execution_count": 92,
   "metadata": {},
   "outputs": [
    {
     "name": "stdout",
     "output_type": "stream",
     "text": [
      "Processed new.py. Double quotes removed.\n"
     ]
    }
   ],
   "source": [
    "import os\n",
    "# Function to remove single quotes from lines in a file\n",
    "def remove_single_quotes_from_file(file_path):\n",
    "    # Read lines from the input file\n",
    "    with open(file_path, 'r') as f:\n",
    "        lines = f.readlines()\n",
    "\n",
    "    # Remove single quotes from each line\n",
    "    cleaned_lines = [line.replace('\"', \"\") for line in lines]\n",
    "\n",
    "    # Write cleaned lines back to the same file\n",
    "    with open(file_path, 'w') as f:\n",
    "        f.writelines(cleaned_lines)\n",
    "\n",
    "    print(f\"Processed {file_path}. Double quotes removed.\")\n",
    "\n",
    "file_path = 'new.py'\n",
    "\n",
    "# Check if the file is a regular file (not a directory)\n",
    "if os.path.isfile(file_path):\n",
    "    # Remove single quotes from current file\n",
    "    remove_single_quotes_from_file(file_path)"
   ]
  },
  {
   "cell_type": "code",
   "execution_count": 93,
   "metadata": {},
   "outputs": [],
   "source": [
    "with open(f'new.py', 'a') as file:\n",
    "    file.write('''interface_builder = InterfaceBuilder(configuration_0=bulk_configuration_gold,configuration_1=bulk_configuration_mo)\n",
    "\n",
    "# Get all of the interface matches, specifying that the second surface (MoS2) should be strained.\n",
    "matches = interface_builder.matches(strain_method=StrainBoth)\n",
    "\n",
    "# Print out table of matches\n",
    "interface_builder.nlprint()\n",
    "\n",
    "# print('{:>20s} {:>10s}'.format('number of atoms', 'strain (%)'))\n",
    "for match in matches:\n",
    "    # Get the number of atoms and strain from the match.\n",
    "    number_of_atoms = match.numberOfAtoms()\n",
    "    mean_absolute_strain = 100.0 * match.meanAbsoluteStrain()\n",
    "\n",
    "    # Print out information about the match.\n",
    "    print('{:20d} {:10.3f}'.format(number_of_atoms, mean_absolute_strain))\n",
    "\n",
    "    # Make the interface configuration and save it to a file.\n",
    "    interface_configuration = match.makeInterface()\n",
    "    nlsave('matches.hdf5', interface_configuration)\n",
    "\n",
    "# Scatter plot of number of atoms vs strain.\n",
    "import pylab\n",
    "pylab.scatter(\n",
    "    [100 * match.meanAbsoluteStrain() for match in matches],\n",
    "    [match.numberOfAtoms() for match in matches],\n",
    ")\n",
    "pylab.xlabel('Mean Absolute Strain (%)')\n",
    "pylab.ylabel('Number of Atoms')\n",
    "pylab.xscale('log')\n",
    "pylab.savefig('size_strain_plot.png')\\n\\n''')"
   ]
  },
  {
   "cell_type": "code",
   "execution_count": 85,
   "metadata": {},
   "outputs": [
    {
     "name": "stdout",
     "output_type": "stream",
     "text": [
      "180\n",
      "180\n"
     ]
    }
   ],
   "source": [
    "print(len(fractional_coordinates_gold))\n",
    "print(len(elements_gold))"
   ]
  },
  {
   "cell_type": "code",
   "execution_count": null,
   "metadata": {},
   "outputs": [],
   "source": []
  }
 ],
 "metadata": {
  "kernelspec": {
   "display_name": "Python 3",
   "language": "python",
   "name": "python3"
  },
  "language_info": {
   "codemirror_mode": {
    "name": "ipython",
    "version": 3
   },
   "file_extension": ".py",
   "mimetype": "text/x-python",
   "name": "python",
   "nbconvert_exporter": "python",
   "pygments_lexer": "ipython3",
   "version": "3.11.7"
  }
 },
 "nbformat": 4,
 "nbformat_minor": 2
}
